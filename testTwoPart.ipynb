{
 "cells": [
  {
   "cell_type": "code",
   "execution_count": 1,
   "metadata": {},
   "outputs": [
    {
     "data": {
      "text/plain": [
       "True"
      ]
     },
     "execution_count": 1,
     "metadata": {},
     "output_type": "execute_result"
    }
   ],
   "source": [
    "import cv2\n",
    "import pytesseract\n",
    "import numpy as np\n",
    "import pandas as pd\n",
    "\n",
    "# Load image, grayscale, Otsu's threshold\n",
    "image = cv2.imread('ic/Helmi v1.jpg')\n",
    "\n",
    "def base_All(image):\n",
    "    x = 15\n",
    "    y = 120\n",
    "    w = 960\n",
    "    h = 485\n",
    "    cv2.rectangle(image, (x,y),(x+w, y+h), (36,255,12),1)\n",
    "    cropped_image = image[y:y+h, x:x+w]\n",
    "    cv2.imwrite('contour.png', cropped_image )\n",
    "    return image\n",
    "\n",
    "def pic(image):\n",
    "    x = 650\n",
    "    y = 120\n",
    "    w = 300\n",
    "    h = 400\n",
    "    cv2.rectangle(image, (x,y),(x+w, y+h), (36,255,12),2)\n",
    "    cropped_pic = image[y:y+h, x:x+w]\n",
    "    cv2.imwrite('pic.png', cropped_pic )\n",
    "    return image\n",
    "\n",
    "cropped_image = cv2.imread(\"contour.png\")\n",
    "cv2.imwrite(\"temp/all.png\",base_All(image))\n",
    "\n",
    "cropped_pic = cv2.imread(\"pic.png\")\n",
    "cv2.imwrite(\"temp/crop_pic.png\",pic(image))\n",
    "\n",
    "gray = cv2.cvtColor(cropped_image, cv2.COLOR_BGR2GRAY)\n",
    "thresh = cv2.threshold(gray, 0, 255, cv2.THRESH_BINARY_INV + cv2.THRESH_OTSU)[1]\n",
    "\n",
    "# Morph open to remove noise\n",
    "kernel = cv2.getStructuringElement(cv2.MORPH_RECT, (2,2))\n",
    "opening = cv2.morphologyEx(thresh, cv2.MORPH_OPEN, kernel, iterations=1)\n",
    "\n",
    "# Find contours and remove small noise\n",
    "cnts = cv2.findContours(opening, cv2.RETR_EXTERNAL, cv2.CHAIN_APPROX_SIMPLE)\n",
    "cnts = cnts[0] if len(cnts) == 2 else cnts[1]\n",
    "for c in cnts:\n",
    "    area = cv2.contourArea(c)\n",
    "    if area < 50:\n",
    "        cv2.drawContours(opening, [c], -1, 0, -1)\n",
    "\n",
    "# Invert and apply slight Gaussian blur\n",
    "result = 255 - opening\n",
    "result = cv2.GaussianBlur(result, (3,3), 0)\n",
    "cv2.imwrite(\"temp/result.png\",result)\n",
    "\n"
   ]
  },
  {
   "cell_type": "code",
   "execution_count": 2,
   "metadata": {},
   "outputs": [],
   "source": [
    "data = pytesseract.image_to_data(result)\n",
    "dataList = list(map(lambda x: x.split('\\t'),data.split('\\n')))\n",
    "df = pd.DataFrame(dataList[1:],columns=dataList[0])\n",
    "df.head(10)\n",
    "df.dropna(inplace=True) # drop the missing in rows\n",
    "col_int = ['level','page_num','block_num','par_num','line_num','word_num','left','top','width','height','conf']\n",
    "df[col_int] = df[col_int].astype(int)"
   ]
  },
  {
   "cell_type": "code",
   "execution_count": 3,
   "metadata": {},
   "outputs": [],
   "source": [
    "cropped = cv2.imread(\"temp/result.png\")\n",
    "image2 = cropped.copy()"
   ]
  },
  {
   "cell_type": "code",
   "execution_count": 4,
   "metadata": {},
   "outputs": [],
   "source": [
    "level = 'word'\n",
    "for l,x,y,w,h,c,txt in df[['level','left','top','width','height','conf','text']].values:\n",
    "    #print(l,x,y,w,h,c)\n",
    "    if level == 'page':\n",
    "        if l == 1:\n",
    "            cv2.rectangle(image2,(x,y),(x+w,y+h),(0,0,0),2)\n",
    "        else:\n",
    "            continue\n",
    "            \n",
    "    elif level == 'block':\n",
    "        if l == 2:\n",
    "            cv2.rectangle(image2,(x,y),(x+w,y+h),(255,0,0),2)\n",
    "        else:\n",
    "            continue\n",
    "    \n",
    "    elif level == 'para':\n",
    "        if l == 3:\n",
    "            cv2.rectangle(image2,(x,y),(x+w,y+h),(0,255,0),2)\n",
    "        else:\n",
    "            continue\n",
    "    \n",
    "    elif level == 'line':\n",
    "        if l == 4:\n",
    "            cv2.rectangle(image2,(x,y),(x+w,y+h),(0,0,255),2)\n",
    "        else:\n",
    "            continue\n",
    "            \n",
    "    elif level == 'word':\n",
    "        if l == 5:\n",
    "            cv2.rectangle(image2,(x,y),(x+w,y+h),(0,255,0),2)\n",
    "            cv2.putText(image2,txt,(x,y),cv2.FONT_HERSHEY_PLAIN,1,(255,0,0),2)\n",
    "        else:\n",
    "            continue\n",
    "            \n",
    "cv2.imshow(\"bounding box\",image2)\n",
    "cv2.waitKey()\n",
    "cv2.destroyAllWindows()"
   ]
  },
  {
   "cell_type": "code",
   "execution_count": null,
   "metadata": {},
   "outputs": [],
   "source": []
  },
  {
   "cell_type": "code",
   "execution_count": null,
   "metadata": {},
   "outputs": [],
   "source": []
  }
 ],
 "metadata": {
  "kernelspec": {
   "display_name": "Python 3.7.9 64-bit (microsoft store)",
   "language": "python",
   "name": "python3"
  },
  "language_info": {
   "codemirror_mode": {
    "name": "ipython",
    "version": 3
   },
   "file_extension": ".py",
   "mimetype": "text/x-python",
   "name": "python",
   "nbconvert_exporter": "python",
   "pygments_lexer": "ipython3",
   "version": "3.7.9"
  },
  "orig_nbformat": 4,
  "vscode": {
   "interpreter": {
    "hash": "638b320b11232b6f10561613880c2f1a309b3bb23ab0ca819efa29ae618a88bd"
   }
  }
 },
 "nbformat": 4,
 "nbformat_minor": 2
}
